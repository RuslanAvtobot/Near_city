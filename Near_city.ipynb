{
 "cells": [
  {
   "cell_type": "code",
   "execution_count": 134,
   "id": "7516c8c8",
   "metadata": {},
   "outputs": [],
   "source": [
    "import pandas as pd\n",
    "import numpy as np\n",
    "import math"
   ]
  },
  {
   "cell_type": "code",
   "execution_count": 135,
   "id": "e4a9941a",
   "metadata": {},
   "outputs": [
    {
     "name": "stdout",
     "output_type": "stream",
     "text": [
      "{'encoding': 'utf-8', 'confidence': 0.99, 'language': ''}\n"
     ]
    }
   ],
   "source": [
    "from chardet.universaldetector import UniversalDetector\n",
    "detector = UniversalDetector()\n",
    "with open('cities.csv', 'rb') as fh:\n",
    "    for line in fh:\n",
    "        detector.feed(line)\n",
    "        if detector.done:\n",
    "            break\n",
    "    detector.close()\n",
    "print(detector.result)"
   ]
  },
  {
   "cell_type": "code",
   "execution_count": 136,
   "id": "6b2e554a",
   "metadata": {},
   "outputs": [
    {
     "data": {
      "text/html": [
       "<div>\n",
       "<style scoped>\n",
       "    .dataframe tbody tr th:only-of-type {\n",
       "        vertical-align: middle;\n",
       "    }\n",
       "\n",
       "    .dataframe tbody tr th {\n",
       "        vertical-align: top;\n",
       "    }\n",
       "\n",
       "    .dataframe thead th {\n",
       "        text-align: right;\n",
       "    }\n",
       "</style>\n",
       "<table border=\"1\" class=\"dataframe\">\n",
       "  <thead>\n",
       "    <tr style=\"text-align: right;\">\n",
       "      <th></th>\n",
       "      <th>Индекс</th>\n",
       "      <th>Тип региона</th>\n",
       "      <th>Регион</th>\n",
       "      <th>Тип района</th>\n",
       "      <th>Район</th>\n",
       "      <th>Тип города</th>\n",
       "      <th>Город</th>\n",
       "      <th>Тип н/п</th>\n",
       "      <th>Н/п</th>\n",
       "      <th>Код КЛАДР</th>\n",
       "      <th>...</th>\n",
       "      <th>Уровень по ФИАС</th>\n",
       "      <th>Признак центра района или региона</th>\n",
       "      <th>Код ОКАТО</th>\n",
       "      <th>Код ОКТМО</th>\n",
       "      <th>Код ИФНС</th>\n",
       "      <th>Часовой пояс</th>\n",
       "      <th>Широта</th>\n",
       "      <th>Долгота</th>\n",
       "      <th>Федеральный округ</th>\n",
       "      <th>Население</th>\n",
       "    </tr>\n",
       "  </thead>\n",
       "  <tbody>\n",
       "    <tr>\n",
       "      <th>250</th>\n",
       "      <td>238730.0</td>\n",
       "      <td>обл</td>\n",
       "      <td>Калининградская</td>\n",
       "      <td>р-н</td>\n",
       "      <td>Краснознаменский</td>\n",
       "      <td>г</td>\n",
       "      <td>Краснознаменск</td>\n",
       "      <td>NaN</td>\n",
       "      <td>NaN</td>\n",
       "      <td>3900700100000</td>\n",
       "      <td>...</td>\n",
       "      <td>4: город</td>\n",
       "      <td>1</td>\n",
       "      <td>27218501000</td>\n",
       "      <td>2.771300e+10</td>\n",
       "      <td>3914</td>\n",
       "      <td>UTC+2</td>\n",
       "      <td>54.945261</td>\n",
       "      <td>22.492851</td>\n",
       "      <td>Северо-Западный</td>\n",
       "      <td>3522</td>\n",
       "    </tr>\n",
       "    <tr>\n",
       "      <th>154</th>\n",
       "      <td>162600.0</td>\n",
       "      <td>обл</td>\n",
       "      <td>Вологодская</td>\n",
       "      <td>NaN</td>\n",
       "      <td>NaN</td>\n",
       "      <td>г</td>\n",
       "      <td>Череповец</td>\n",
       "      <td>NaN</td>\n",
       "      <td>NaN</td>\n",
       "      <td>3500000200000</td>\n",
       "      <td>...</td>\n",
       "      <td>4: город</td>\n",
       "      <td>0</td>\n",
       "      <td>19430000000</td>\n",
       "      <td>1.973000e+07</td>\n",
       "      <td>3528</td>\n",
       "      <td>UTC+3</td>\n",
       "      <td>59.126921</td>\n",
       "      <td>37.909224</td>\n",
       "      <td>Северо-Западный</td>\n",
       "      <td>312311</td>\n",
       "    </tr>\n",
       "    <tr>\n",
       "      <th>520</th>\n",
       "      <td>102321.0</td>\n",
       "      <td>обл</td>\n",
       "      <td>Московская</td>\n",
       "      <td>NaN</td>\n",
       "      <td>NaN</td>\n",
       "      <td>г</td>\n",
       "      <td>Домодедово</td>\n",
       "      <td>NaN</td>\n",
       "      <td>NaN</td>\n",
       "      <td>5000000100000</td>\n",
       "      <td>...</td>\n",
       "      <td>4: город</td>\n",
       "      <td>0</td>\n",
       "      <td>46409000000</td>\n",
       "      <td>4.670900e+07</td>\n",
       "      <td>5000</td>\n",
       "      <td>UTC+3</td>\n",
       "      <td>55.436390</td>\n",
       "      <td>37.766626</td>\n",
       "      <td>Центральный</td>\n",
       "      <td>96123</td>\n",
       "    </tr>\n",
       "    <tr>\n",
       "      <th>759</th>\n",
       "      <td>391300.0</td>\n",
       "      <td>обл</td>\n",
       "      <td>Рязанская</td>\n",
       "      <td>NaN</td>\n",
       "      <td>NaN</td>\n",
       "      <td>г</td>\n",
       "      <td>Касимов</td>\n",
       "      <td>NaN</td>\n",
       "      <td>NaN</td>\n",
       "      <td>6200000400000</td>\n",
       "      <td>...</td>\n",
       "      <td>4: город</td>\n",
       "      <td>1</td>\n",
       "      <td>61405000000</td>\n",
       "      <td>6.170500e+10</td>\n",
       "      <td>6226</td>\n",
       "      <td>UTC+3</td>\n",
       "      <td>54.937379</td>\n",
       "      <td>41.391291</td>\n",
       "      <td>Центральный</td>\n",
       "      <td>33494</td>\n",
       "    </tr>\n",
       "    <tr>\n",
       "      <th>103</th>\n",
       "      <td>601300.0</td>\n",
       "      <td>обл</td>\n",
       "      <td>Владимирская</td>\n",
       "      <td>р-н</td>\n",
       "      <td>Камешковский</td>\n",
       "      <td>г</td>\n",
       "      <td>Камешково</td>\n",
       "      <td>NaN</td>\n",
       "      <td>NaN</td>\n",
       "      <td>3300600100000</td>\n",
       "      <td>...</td>\n",
       "      <td>4: город</td>\n",
       "      <td>1</td>\n",
       "      <td>17225501000</td>\n",
       "      <td>1.762510e+10</td>\n",
       "      <td>3340</td>\n",
       "      <td>UTC+3</td>\n",
       "      <td>56.348871</td>\n",
       "      <td>40.995568</td>\n",
       "      <td>Центральный</td>\n",
       "      <td>13113</td>\n",
       "    </tr>\n",
       "  </tbody>\n",
       "</table>\n",
       "<p>5 rows × 21 columns</p>\n",
       "</div>"
      ],
      "text/plain": [
       "       Индекс Тип региона           Регион Тип района             Район  \\\n",
       "250  238730.0         обл  Калининградская        р-н  Краснознаменский   \n",
       "154  162600.0         обл      Вологодская        NaN               NaN   \n",
       "520  102321.0         обл       Московская        NaN               NaN   \n",
       "759  391300.0         обл        Рязанская        NaN               NaN   \n",
       "103  601300.0         обл     Владимирская        р-н      Камешковский   \n",
       "\n",
       "    Тип города           Город Тип н/п  Н/п      Код КЛАДР  ...  \\\n",
       "250          г  Краснознаменск     NaN  NaN  3900700100000  ...   \n",
       "154          г       Череповец     NaN  NaN  3500000200000  ...   \n",
       "520          г      Домодедово     NaN  NaN  5000000100000  ...   \n",
       "759          г         Касимов     NaN  NaN  6200000400000  ...   \n",
       "103          г       Камешково     NaN  NaN  3300600100000  ...   \n",
       "\n",
       "    Уровень по ФИАС Признак центра района или региона    Код ОКАТО  \\\n",
       "250        4: город                                 1  27218501000   \n",
       "154        4: город                                 0  19430000000   \n",
       "520        4: город                                 0  46409000000   \n",
       "759        4: город                                 1  61405000000   \n",
       "103        4: город                                 1  17225501000   \n",
       "\n",
       "        Код ОКТМО  Код ИФНС  Часовой пояс     Широта    Долгота  \\\n",
       "250  2.771300e+10      3914         UTC+2  54.945261  22.492851   \n",
       "154  1.973000e+07      3528         UTC+3  59.126921  37.909224   \n",
       "520  4.670900e+07      5000         UTC+3  55.436390  37.766626   \n",
       "759  6.170500e+10      6226         UTC+3  54.937379  41.391291   \n",
       "103  1.762510e+10      3340         UTC+3  56.348871  40.995568   \n",
       "\n",
       "     Федеральный округ Население  \n",
       "250    Северо-Западный      3522  \n",
       "154    Северо-Западный    312311  \n",
       "520        Центральный     96123  \n",
       "759        Центральный     33494  \n",
       "103        Центральный     13113  \n",
       "\n",
       "[5 rows x 21 columns]"
      ]
     },
     "execution_count": 136,
     "metadata": {},
     "output_type": "execute_result"
    }
   ],
   "source": [
    "cities = pd.read_csv('cities.csv', encoding = 'utf-8')\n",
    "cities.sample(5)"
   ]
  },
  {
   "cell_type": "code",
   "execution_count": 137,
   "id": "513974e5",
   "metadata": {},
   "outputs": [
    {
     "name": "stdout",
     "output_type": "stream",
     "text": [
      "<class 'pandas.core.frame.DataFrame'>\n",
      "RangeIndex: 1112 entries, 0 to 1111\n",
      "Data columns (total 21 columns):\n",
      " #   Column                             Non-Null Count  Dtype  \n",
      "---  ------                             --------------  -----  \n",
      " 0   Индекс                             1108 non-null   float64\n",
      " 1   Тип региона                        1112 non-null   object \n",
      " 2   Регион                             1112 non-null   object \n",
      " 3   Тип района                         629 non-null    object \n",
      " 4   Район                              629 non-null    object \n",
      " 5   Тип города                         1108 non-null   object \n",
      " 6   Город                              1108 non-null   object \n",
      " 7   Тип н/п                            2 non-null      object \n",
      " 8   Н/п                                2 non-null      object \n",
      " 9   Код КЛАДР                          1112 non-null   int64  \n",
      " 10  Код ФИАС                           1112 non-null   object \n",
      " 11  Уровень по ФИАС                    1112 non-null   object \n",
      " 12  Признак центра района или региона  1112 non-null   int64  \n",
      " 13  Код ОКАТО                          1112 non-null   int64  \n",
      " 14  Код ОКТМО                          1110 non-null   float64\n",
      " 15  Код ИФНС                           1112 non-null   int64  \n",
      " 16  Часовой пояс                       1112 non-null   object \n",
      " 17  Широта                             1112 non-null   float64\n",
      " 18  Долгота                            1112 non-null   float64\n",
      " 19  Федеральный округ                  1112 non-null   object \n",
      " 20  Население                          1112 non-null   object \n",
      "dtypes: float64(4), int64(4), object(13)\n",
      "memory usage: 182.6+ KB\n"
     ]
    }
   ],
   "source": [
    "cities.info()"
   ]
  },
  {
   "cell_type": "code",
   "execution_count": 138,
   "id": "38a609c2",
   "metadata": {},
   "outputs": [
    {
     "data": {
      "text/plain": [
       "Index(['Индекс', 'Тип региона', 'Регион', 'Тип района', 'Район', 'Тип города',\n",
       "       'Город', 'Тип н/п', 'Н/п', 'Код КЛАДР', 'Код ФИАС', 'Уровень по ФИАС',\n",
       "       'Признак центра района или региона', 'Код ОКАТО', 'Код ОКТМО',\n",
       "       'Код ИФНС', 'Часовой пояс', 'Широта', 'Долгота', 'Федеральный округ',\n",
       "       'Население'],\n",
       "      dtype='object')"
      ]
     },
     "execution_count": 138,
     "metadata": {},
     "output_type": "execute_result"
    }
   ],
   "source": [
    "cities.columns"
   ]
  },
  {
   "cell_type": "code",
   "execution_count": 139,
   "id": "8193c7a7",
   "metadata": {},
   "outputs": [],
   "source": [
    "cities.drop(['Индекс', 'Тип региона', 'Тип н/п', 'Н/п', 'Код КЛАДР', 'Код ФИАС', 'Уровень по ФИАС',\n",
    "       'Признак центра района или региона', 'Код ОКАТО', 'Код ОКТМО',\n",
    "       'Код ИФНС', 'Федеральный округ'], axis = 1, inplace = True)"
   ]
  },
  {
   "cell_type": "code",
   "execution_count": 140,
   "id": "34ea3b3a",
   "metadata": {},
   "outputs": [
    {
     "name": "stdout",
     "output_type": "stream",
     "text": [
      "<class 'pandas.core.frame.DataFrame'>\n",
      "RangeIndex: 1112 entries, 0 to 1111\n",
      "Data columns (total 9 columns):\n",
      " #   Column        Non-Null Count  Dtype  \n",
      "---  ------        --------------  -----  \n",
      " 0   Регион        1112 non-null   object \n",
      " 1   Тип района    629 non-null    object \n",
      " 2   Район         629 non-null    object \n",
      " 3   Тип города    1108 non-null   object \n",
      " 4   Город         1108 non-null   object \n",
      " 5   Часовой пояс  1112 non-null   object \n",
      " 6   Широта        1112 non-null   float64\n",
      " 7   Долгота       1112 non-null   float64\n",
      " 8   Население     1112 non-null   object \n",
      "dtypes: float64(2), object(7)\n",
      "memory usage: 78.3+ KB\n"
     ]
    }
   ],
   "source": [
    "cities.info()"
   ]
  },
  {
   "cell_type": "code",
   "execution_count": 141,
   "id": "49626424",
   "metadata": {},
   "outputs": [
    {
     "data": {
      "text/html": [
       "<div>\n",
       "<style scoped>\n",
       "    .dataframe tbody tr th:only-of-type {\n",
       "        vertical-align: middle;\n",
       "    }\n",
       "\n",
       "    .dataframe tbody tr th {\n",
       "        vertical-align: top;\n",
       "    }\n",
       "\n",
       "    .dataframe thead th {\n",
       "        text-align: right;\n",
       "    }\n",
       "</style>\n",
       "<table border=\"1\" class=\"dataframe\">\n",
       "  <thead>\n",
       "    <tr style=\"text-align: right;\">\n",
       "      <th></th>\n",
       "      <th>Регион</th>\n",
       "      <th>Тип района</th>\n",
       "      <th>Район</th>\n",
       "      <th>Тип города</th>\n",
       "      <th>Город</th>\n",
       "      <th>Часовой пояс</th>\n",
       "      <th>Широта</th>\n",
       "      <th>Долгота</th>\n",
       "      <th>Население</th>\n",
       "    </tr>\n",
       "  </thead>\n",
       "  <tbody>\n",
       "    <tr>\n",
       "      <th>924</th>\n",
       "      <td>Татарстан</td>\n",
       "      <td>NaN</td>\n",
       "      <td>NaN</td>\n",
       "      <td>г</td>\n",
       "      <td>Казань</td>\n",
       "      <td>UTC+3</td>\n",
       "      <td>55.794388</td>\n",
       "      <td>49.111531</td>\n",
       "      <td>1216965</td>\n",
       "    </tr>\n",
       "  </tbody>\n",
       "</table>\n",
       "</div>"
      ],
      "text/plain": [
       "        Регион Тип района Район Тип города   Город Часовой пояс     Широта  \\\n",
       "924  Татарстан        NaN   NaN          г  Казань        UTC+3  55.794388   \n",
       "\n",
       "       Долгота Население  \n",
       "924  49.111531   1216965  "
      ]
     },
     "execution_count": 141,
     "metadata": {},
     "output_type": "execute_result"
    }
   ],
   "source": [
    "cities[cities['Город'] == 'Казань']"
   ]
  },
  {
   "cell_type": "code",
   "execution_count": 142,
   "id": "c6353389",
   "metadata": {},
   "outputs": [],
   "source": [
    "cities['Часовой пояс'] = cities['Часовой пояс'].str.replace('UTC', '') #удаляю UTC из часового пояса"
   ]
  },
  {
   "cell_type": "code",
   "execution_count": 143,
   "id": "1f9f91b9",
   "metadata": {},
   "outputs": [],
   "source": [
    "cities['Часовой пояс'] = cities['Часовой пояс'].apply(lambda x: int(x))"
   ]
  },
  {
   "cell_type": "code",
   "execution_count": 144,
   "id": "a99eb659",
   "metadata": {},
   "outputs": [
    {
     "data": {
      "text/plain": [
       "5.5"
      ]
     },
     "execution_count": 144,
     "metadata": {},
     "output_type": "execute_result"
    }
   ],
   "source": [
    "int(cities[cities['Город'] == 'Казань']['Часовой пояс'].values)+2.5"
   ]
  },
  {
   "cell_type": "code",
   "execution_count": 191,
   "id": "2dd31b04",
   "metadata": {},
   "outputs": [],
   "source": [
    "#Отсекаем часовые пояса +- 2 часа\n",
    "near_Kazan = cities[cities['Часовой пояс'].between(float(cities[cities['Город'] == 'Самара']['Часовой пояс'].values)-2.5,\n",
    "                                            float(cities[cities['Город'] == 'Самара']['Часовой пояс'].values)+2.5,\n",
    "                                            inclusive = True)]"
   ]
  },
  {
   "cell_type": "code",
   "execution_count": 192,
   "id": "2697f56b",
   "metadata": {},
   "outputs": [],
   "source": [
    "# Отсекаем города по Долготе\n",
    "near_Kazan = near_Kazan[near_Kazan['Долгота'].between(float(near_Kazan[near_Kazan['Город'] == 'Самара']['Долгота'].values)-1,\n",
    "                                            float(near_Kazan[near_Kazan['Город'] == 'Самара']['Долгота'].values)+1,\n",
    "                                            inclusive = True)]"
   ]
  },
  {
   "cell_type": "code",
   "execution_count": 205,
   "id": "f9f66eb7",
   "metadata": {},
   "outputs": [
    {
     "data": {
      "text/plain": [
       "0.618221918105964"
      ]
     },
     "execution_count": 205,
     "metadata": {},
     "output_type": "execute_result"
    }
   ],
   "source": [
    "math.cos(round(float(near_Kazan[near_Kazan['Город'] == 'Самара']['Широта'].values), 6) * 0.017)"
   ]
  },
  {
   "cell_type": "code",
   "execution_count": 193,
   "id": "c23e4455",
   "metadata": {},
   "outputs": [
    {
     "name": "stdout",
     "output_type": "stream",
     "text": [
      "-108.62567738421929\n"
     ]
    }
   ],
   "source": [
    "max_latitude = 40000/360 * math.cos(float(near_Kazan[near_Kazan['Город'] == 'Самара']['Широта'].values))\n",
    "print(max_latitude)"
   ]
  },
  {
   "cell_type": "code",
   "execution_count": 189,
   "id": "2fb65d86",
   "metadata": {},
   "outputs": [
    {
     "data": {
      "text/plain": [
       "-1.02288"
      ]
     },
     "execution_count": 189,
     "metadata": {},
     "output_type": "execute_result"
    }
   ],
   "source": [
    "latitude = round(111.111/(max_latitude/60)/60, 6)\n",
    "latitude"
   ]
  },
  {
   "cell_type": "code",
   "execution_count": 187,
   "id": "c004805f",
   "metadata": {},
   "outputs": [],
   "source": [
    "near_Kazan = near_Kazan[near_Kazan['Широта'].between(float(near_Kazan[near_Kazan['Город'] == 'Самара']\n",
    "                                                           ['Широта'].values)-latitude,\n",
    "                                                     float(near_Kazan[near_Kazan['Город'] == 'Самара']\n",
    "                                                           ['Широта'].values)+latitude,\n",
    "                                            inclusive = True)]"
   ]
  },
  {
   "cell_type": "code",
   "execution_count": 188,
   "id": "9e713686",
   "metadata": {
    "scrolled": true
   },
   "outputs": [
    {
     "data": {
      "text/html": [
       "<div>\n",
       "<style scoped>\n",
       "    .dataframe tbody tr th:only-of-type {\n",
       "        vertical-align: middle;\n",
       "    }\n",
       "\n",
       "    .dataframe tbody tr th {\n",
       "        vertical-align: top;\n",
       "    }\n",
       "\n",
       "    .dataframe thead th {\n",
       "        text-align: right;\n",
       "    }\n",
       "</style>\n",
       "<table border=\"1\" class=\"dataframe\">\n",
       "  <thead>\n",
       "    <tr style=\"text-align: right;\">\n",
       "      <th></th>\n",
       "      <th>Регион</th>\n",
       "      <th>Тип района</th>\n",
       "      <th>Район</th>\n",
       "      <th>Тип города</th>\n",
       "      <th>Город</th>\n",
       "      <th>Часовой пояс</th>\n",
       "      <th>Широта</th>\n",
       "      <th>Долгота</th>\n",
       "      <th>Население</th>\n",
       "    </tr>\n",
       "  </thead>\n",
       "  <tbody>\n",
       "  </tbody>\n",
       "</table>\n",
       "</div>"
      ],
      "text/plain": [
       "Empty DataFrame\n",
       "Columns: [Регион, Тип района, Район, Тип города, Город, Часовой пояс, Широта, Долгота, Население]\n",
       "Index: []"
      ]
     },
     "execution_count": 188,
     "metadata": {},
     "output_type": "execute_result"
    }
   ],
   "source": [
    "near_Kazan"
   ]
  },
  {
   "cell_type": "code",
   "execution_count": 165,
   "id": "58d21db6",
   "metadata": {},
   "outputs": [
    {
     "name": "stdout",
     "output_type": "stream",
     "text": [
      "{'Казань': []}\n",
      "{'Казань': ['Уржум', 'Волжск', 'Арск', 'Болгар', 'Буинск', 'Зеленодольск', 'Иннополис', 'Казань', 'Лаишево', 'Тетюши', 'Козловка']}\n"
     ]
    }
   ],
   "source": [
    "near_sity_s = dict()\n",
    "\n",
    "near_sity_s['Казань'] = list()\n",
    "\n",
    "for i in near_Kazan['Город']:\n",
    "    near_sity_s['Казань'].append(i)\n",
    "\n",
    "print(near_sity_s) "
   ]
  },
  {
   "cell_type": "code",
   "execution_count": 206,
   "id": "deb87ad5",
   "metadata": {},
   "outputs": [],
   "source": [
    "def near_city(city_name):\n",
    "    near_sity_s = dict() #создаю словарь, что бы добавить города\n",
    "    near_sity_s[city_name] = list()\n",
    "    \n",
    "    #Отсекаем часовые пояса +- 2 часа\n",
    "    near_Kazan = cities[cities['Часовой пояс'].between(float(cities[cities['Город'] == city_name]['Часовой пояс'].values)-2.5,\n",
    "                                            float(cities[cities['Город'] == city_name ]['Часовой пояс'].values)+2.5,\n",
    "                                            inclusive = True)]\n",
    "    \n",
    "    # Отсекаем города по Долготе\n",
    "    near_Kazan = cities[cities['Долгота'].between(float(near_Kazan[near_Kazan['Город'] == city_name]['Долгота'].values)-1,\n",
    "                                            float(near_Kazan[near_Kazan['Город'] == city_name]['Долгота'].values)+1,\n",
    "                                            inclusive = True)]\n",
    "    \n",
    "    latitude = 40000/360 * math.cos(float(near_Kazan[near_Kazan['Город'] == city_name]['Широта'].values)*0.017)\n",
    "    latitude = round(111.111/(latitude/60)/60, 6)\n",
    "    \n",
    "    # Отсекаем города по Широте\n",
    "    near_Kazan = near_Kazan[near_Kazan['Широта'].between(float(near_Kazan[near_Kazan['Город'] == city_name]\n",
    "                                                           ['Широта'].values)-latitude,\n",
    "                                                     float(near_Kazan[near_Kazan['Город'] == city_name]\n",
    "                                                           ['Широта'].values)+latitude,\n",
    "                                            inclusive = True)]\n",
    "    \n",
    "    for i in near_Kazan['Город']:\n",
    "        near_sity_s[city_name].append(i)\n",
    "\n",
    "    return near_sity_s"
   ]
  },
  {
   "cell_type": "markdown",
   "id": "3d11cd51",
   "metadata": {},
   "source": [
    "Отсекаем часовые пояса +\\- 2 часа\n",
    "Считам длину долготы - разница +\\- 111 км\n",
    "Длина 1 градуса широты 40000\\*cos(широты) - 1 градус - длина широты \\ 360, в градусе 60 минут - \n",
    "   пересчитываем в десятичные доли - 1 градус + 1 мин\\60\n",
    "Находим по разницы широты +\\- 1 градус, долготы расчётная разница, список городов\n",
    "Выводим списко городов"
   ]
  },
  {
   "cell_type": "code",
   "execution_count": 211,
   "id": "ee1d6f6c",
   "metadata": {},
   "outputs": [
    {
     "data": {
      "text/plain": [
       "{'Сызрань': ['Октябрьск',\n",
       "  'Сызрань',\n",
       "  'Тольятти',\n",
       "  'Балаково',\n",
       "  'Пугачев',\n",
       "  'Хвалынск',\n",
       "  'Новоульяновск',\n",
       "  'Сенгилей',\n",
       "  'Ульяновск']}"
      ]
     },
     "execution_count": 211,
     "metadata": {},
     "output_type": "execute_result"
    }
   ],
   "source": [
    "near_city('Сызрань')"
   ]
  },
  {
   "cell_type": "code",
   "execution_count": null,
   "id": "eb42a646",
   "metadata": {},
   "outputs": [],
   "source": []
  }
 ],
 "metadata": {
  "kernelspec": {
   "display_name": "Python 3 (ipykernel)",
   "language": "python",
   "name": "python3"
  },
  "language_info": {
   "codemirror_mode": {
    "name": "ipython",
    "version": 3
   },
   "file_extension": ".py",
   "mimetype": "text/x-python",
   "name": "python",
   "nbconvert_exporter": "python",
   "pygments_lexer": "ipython3",
   "version": "3.8.11"
  }
 },
 "nbformat": 4,
 "nbformat_minor": 5
}
