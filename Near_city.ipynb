{
 "cells": [
  {
   "cell_type": "code",
   "execution_count": 1,
   "id": "7516c8c8",
   "metadata": {},
   "outputs": [],
   "source": [
    "import pandas as pd\n",
    "import numpy as np"
   ]
  },
  {
   "cell_type": "code",
   "execution_count": 2,
   "id": "e4a9941a",
   "metadata": {},
   "outputs": [
    {
     "name": "stdout",
     "output_type": "stream",
     "text": [
      "{'encoding': 'utf-8', 'confidence': 0.99, 'language': ''}\n"
     ]
    }
   ],
   "source": [
    "from chardet.universaldetector import UniversalDetector\n",
    "detector = UniversalDetector()\n",
    "with open('cities.csv', 'rb') as fh:\n",
    "    for line in fh:\n",
    "        detector.feed(line)\n",
    "        if detector.done:\n",
    "            break\n",
    "    detector.close()\n",
    "print(detector.result)"
   ]
  },
  {
   "cell_type": "code",
   "execution_count": 5,
   "id": "6b2e554a",
   "metadata": {},
   "outputs": [
    {
     "data": {
      "text/html": [
       "<div>\n",
       "<style scoped>\n",
       "    .dataframe tbody tr th:only-of-type {\n",
       "        vertical-align: middle;\n",
       "    }\n",
       "\n",
       "    .dataframe tbody tr th {\n",
       "        vertical-align: top;\n",
       "    }\n",
       "\n",
       "    .dataframe thead th {\n",
       "        text-align: right;\n",
       "    }\n",
       "</style>\n",
       "<table border=\"1\" class=\"dataframe\">\n",
       "  <thead>\n",
       "    <tr style=\"text-align: right;\">\n",
       "      <th></th>\n",
       "      <th>Индекс</th>\n",
       "      <th>Тип региона</th>\n",
       "      <th>Регион</th>\n",
       "      <th>Тип района</th>\n",
       "      <th>Район</th>\n",
       "      <th>Тип города</th>\n",
       "      <th>Город</th>\n",
       "      <th>Тип н/п</th>\n",
       "      <th>Н/п</th>\n",
       "      <th>Код КЛАДР</th>\n",
       "      <th>...</th>\n",
       "      <th>Уровень по ФИАС</th>\n",
       "      <th>Признак центра района или региона</th>\n",
       "      <th>Код ОКАТО</th>\n",
       "      <th>Код ОКТМО</th>\n",
       "      <th>Код ИФНС</th>\n",
       "      <th>Часовой пояс</th>\n",
       "      <th>Широта</th>\n",
       "      <th>Долгота</th>\n",
       "      <th>Федеральный округ</th>\n",
       "      <th>Население</th>\n",
       "    </tr>\n",
       "  </thead>\n",
       "  <tbody>\n",
       "    <tr>\n",
       "      <th>692</th>\n",
       "      <td>618350.0</td>\n",
       "      <td>край</td>\n",
       "      <td>Пермский</td>\n",
       "      <td>NaN</td>\n",
       "      <td>NaN</td>\n",
       "      <td>г</td>\n",
       "      <td>Кизел</td>\n",
       "      <td>NaN</td>\n",
       "      <td>NaN</td>\n",
       "      <td>5900000700000</td>\n",
       "      <td>...</td>\n",
       "      <td>4: город</td>\n",
       "      <td>0</td>\n",
       "      <td>57418000000</td>\n",
       "      <td>5.762310e+10</td>\n",
       "      <td>5911</td>\n",
       "      <td>UTC+5</td>\n",
       "      <td>59.051176</td>\n",
       "      <td>57.647121</td>\n",
       "      <td>Приволжский</td>\n",
       "      <td>20277</td>\n",
       "    </tr>\n",
       "    <tr>\n",
       "      <th>158</th>\n",
       "      <td>397500.0</td>\n",
       "      <td>обл</td>\n",
       "      <td>Воронежская</td>\n",
       "      <td>р-н</td>\n",
       "      <td>Бутурлиновский</td>\n",
       "      <td>г</td>\n",
       "      <td>Бутурлиновка</td>\n",
       "      <td>NaN</td>\n",
       "      <td>NaN</td>\n",
       "      <td>3600600100000</td>\n",
       "      <td>...</td>\n",
       "      <td>4: город</td>\n",
       "      <td>1</td>\n",
       "      <td>20208501000</td>\n",
       "      <td>2.060810e+10</td>\n",
       "      <td>3629</td>\n",
       "      <td>UTC+3</td>\n",
       "      <td>50.831323</td>\n",
       "      <td>40.597754</td>\n",
       "      <td>Центральный</td>\n",
       "      <td>27208</td>\n",
       "    </tr>\n",
       "    <tr>\n",
       "      <th>831</th>\n",
       "      <td>623850.0</td>\n",
       "      <td>обл</td>\n",
       "      <td>Свердловская</td>\n",
       "      <td>NaN</td>\n",
       "      <td>NaN</td>\n",
       "      <td>г</td>\n",
       "      <td>Ирбит</td>\n",
       "      <td>NaN</td>\n",
       "      <td>NaN</td>\n",
       "      <td>6600002900000</td>\n",
       "      <td>...</td>\n",
       "      <td>4: город</td>\n",
       "      <td>0</td>\n",
       "      <td>65432000000</td>\n",
       "      <td>6.573900e+07</td>\n",
       "      <td>6676</td>\n",
       "      <td>UTC+5</td>\n",
       "      <td>57.683841</td>\n",
       "      <td>63.057664</td>\n",
       "      <td>Уральский</td>\n",
       "      <td>38352</td>\n",
       "    </tr>\n",
       "    <tr>\n",
       "      <th>306</th>\n",
       "      <td>186150.0</td>\n",
       "      <td>Респ</td>\n",
       "      <td>Карелия</td>\n",
       "      <td>р-н</td>\n",
       "      <td>Пудожский</td>\n",
       "      <td>г</td>\n",
       "      <td>Пудож</td>\n",
       "      <td>NaN</td>\n",
       "      <td>NaN</td>\n",
       "      <td>1001300100000</td>\n",
       "      <td>...</td>\n",
       "      <td>4: город</td>\n",
       "      <td>1</td>\n",
       "      <td>86242501000</td>\n",
       "      <td>8.664210e+10</td>\n",
       "      <td>1039</td>\n",
       "      <td>UTC+3</td>\n",
       "      <td>61.805915</td>\n",
       "      <td>36.533009</td>\n",
       "      <td>Северо-Западный</td>\n",
       "      <td>9698</td>\n",
       "    </tr>\n",
       "    <tr>\n",
       "      <th>210</th>\n",
       "      <td>386001.0</td>\n",
       "      <td>Респ</td>\n",
       "      <td>Ингушетия</td>\n",
       "      <td>NaN</td>\n",
       "      <td>NaN</td>\n",
       "      <td>г</td>\n",
       "      <td>Магас</td>\n",
       "      <td>NaN</td>\n",
       "      <td>NaN</td>\n",
       "      <td>600000100000</td>\n",
       "      <td>...</td>\n",
       "      <td>4: город</td>\n",
       "      <td>2</td>\n",
       "      <td>26401000000</td>\n",
       "      <td>2.670100e+10</td>\n",
       "      <td>608</td>\n",
       "      <td>UTC+3</td>\n",
       "      <td>43.168697</td>\n",
       "      <td>44.813085</td>\n",
       "      <td>Северо-Кавказский</td>\n",
       "      <td>2505</td>\n",
       "    </tr>\n",
       "  </tbody>\n",
       "</table>\n",
       "<p>5 rows × 21 columns</p>\n",
       "</div>"
      ],
      "text/plain": [
       "       Индекс Тип региона        Регион Тип района           Район Тип города  \\\n",
       "692  618350.0        край      Пермский        NaN             NaN          г   \n",
       "158  397500.0         обл   Воронежская        р-н  Бутурлиновский          г   \n",
       "831  623850.0         обл  Свердловская        NaN             NaN          г   \n",
       "306  186150.0        Респ       Карелия        р-н       Пудожский          г   \n",
       "210  386001.0        Респ     Ингушетия        NaN             NaN          г   \n",
       "\n",
       "            Город Тип н/п  Н/п      Код КЛАДР  ... Уровень по ФИАС  \\\n",
       "692         Кизел     NaN  NaN  5900000700000  ...        4: город   \n",
       "158  Бутурлиновка     NaN  NaN  3600600100000  ...        4: город   \n",
       "831         Ирбит     NaN  NaN  6600002900000  ...        4: город   \n",
       "306         Пудож     NaN  NaN  1001300100000  ...        4: город   \n",
       "210         Магас     NaN  NaN   600000100000  ...        4: город   \n",
       "\n",
       "    Признак центра района или региона    Код ОКАТО     Код ОКТМО  Код ИФНС  \\\n",
       "692                                 0  57418000000  5.762310e+10      5911   \n",
       "158                                 1  20208501000  2.060810e+10      3629   \n",
       "831                                 0  65432000000  6.573900e+07      6676   \n",
       "306                                 1  86242501000  8.664210e+10      1039   \n",
       "210                                 2  26401000000  2.670100e+10       608   \n",
       "\n",
       "     Часовой пояс     Широта    Долгота  Федеральный округ Население  \n",
       "692         UTC+5  59.051176  57.647121        Приволжский     20277  \n",
       "158         UTC+3  50.831323  40.597754        Центральный     27208  \n",
       "831         UTC+5  57.683841  63.057664          Уральский     38352  \n",
       "306         UTC+3  61.805915  36.533009    Северо-Западный      9698  \n",
       "210         UTC+3  43.168697  44.813085  Северо-Кавказский      2505  \n",
       "\n",
       "[5 rows x 21 columns]"
      ]
     },
     "execution_count": 5,
     "metadata": {},
     "output_type": "execute_result"
    }
   ],
   "source": [
    "cities = pd.read_csv('cities.csv', encoding = 'utf-8')\n",
    "cities.sample(5)"
   ]
  },
  {
   "cell_type": "code",
   "execution_count": 6,
   "id": "513974e5",
   "metadata": {},
   "outputs": [
    {
     "name": "stdout",
     "output_type": "stream",
     "text": [
      "<class 'pandas.core.frame.DataFrame'>\n",
      "RangeIndex: 1112 entries, 0 to 1111\n",
      "Data columns (total 21 columns):\n",
      " #   Column                             Non-Null Count  Dtype  \n",
      "---  ------                             --------------  -----  \n",
      " 0   Индекс                             1108 non-null   float64\n",
      " 1   Тип региона                        1112 non-null   object \n",
      " 2   Регион                             1112 non-null   object \n",
      " 3   Тип района                         629 non-null    object \n",
      " 4   Район                              629 non-null    object \n",
      " 5   Тип города                         1108 non-null   object \n",
      " 6   Город                              1108 non-null   object \n",
      " 7   Тип н/п                            2 non-null      object \n",
      " 8   Н/п                                2 non-null      object \n",
      " 9   Код КЛАДР                          1112 non-null   int64  \n",
      " 10  Код ФИАС                           1112 non-null   object \n",
      " 11  Уровень по ФИАС                    1112 non-null   object \n",
      " 12  Признак центра района или региона  1112 non-null   int64  \n",
      " 13  Код ОКАТО                          1112 non-null   int64  \n",
      " 14  Код ОКТМО                          1110 non-null   float64\n",
      " 15  Код ИФНС                           1112 non-null   int64  \n",
      " 16  Часовой пояс                       1112 non-null   object \n",
      " 17  Широта                             1112 non-null   float64\n",
      " 18  Долгота                            1112 non-null   float64\n",
      " 19  Федеральный округ                  1112 non-null   object \n",
      " 20  Население                          1112 non-null   object \n",
      "dtypes: float64(4), int64(4), object(13)\n",
      "memory usage: 182.6+ KB\n"
     ]
    }
   ],
   "source": [
    "cities.info()"
   ]
  },
  {
   "cell_type": "code",
   "execution_count": 9,
   "id": "38a609c2",
   "metadata": {},
   "outputs": [
    {
     "data": {
      "text/plain": [
       "Index(['Индекс', 'Тип региона', 'Регион', 'Тип района', 'Район', 'Тип города',\n",
       "       'Город', 'Тип н/п', 'Н/п', 'Код КЛАДР', 'Код ФИАС', 'Уровень по ФИАС',\n",
       "       'Признак центра района или региона', 'Код ОКАТО', 'Код ОКТМО',\n",
       "       'Код ИФНС', 'Часовой пояс', 'Широта', 'Долгота', 'Федеральный округ',\n",
       "       'Население'],\n",
       "      dtype='object')"
      ]
     },
     "execution_count": 9,
     "metadata": {},
     "output_type": "execute_result"
    }
   ],
   "source": [
    "cities.columns"
   ]
  },
  {
   "cell_type": "code",
   "execution_count": 12,
   "id": "8193c7a7",
   "metadata": {},
   "outputs": [],
   "source": [
    "cities.drop(['Индекс', 'Тип региона', 'Тип н/п', 'Н/п', 'Код КЛАДР', 'Код ФИАС', 'Уровень по ФИАС',\n",
    "       'Признак центра района или региона', 'Код ОКАТО', 'Код ОКТМО',\n",
    "       'Код ИФНС', 'Федеральный округ',\n",
    "       'Население'], axis = 1, inplace = True)"
   ]
  },
  {
   "cell_type": "code",
   "execution_count": 13,
   "id": "34ea3b3a",
   "metadata": {},
   "outputs": [
    {
     "name": "stdout",
     "output_type": "stream",
     "text": [
      "<class 'pandas.core.frame.DataFrame'>\n",
      "RangeIndex: 1112 entries, 0 to 1111\n",
      "Data columns (total 8 columns):\n",
      " #   Column        Non-Null Count  Dtype  \n",
      "---  ------        --------------  -----  \n",
      " 0   Регион        1112 non-null   object \n",
      " 1   Тип района    629 non-null    object \n",
      " 2   Район         629 non-null    object \n",
      " 3   Тип города    1108 non-null   object \n",
      " 4   Город         1108 non-null   object \n",
      " 5   Часовой пояс  1112 non-null   object \n",
      " 6   Широта        1112 non-null   float64\n",
      " 7   Долгота       1112 non-null   float64\n",
      "dtypes: float64(2), object(6)\n",
      "memory usage: 69.6+ KB\n"
     ]
    }
   ],
   "source": [
    "cities.info()"
   ]
  },
  {
   "cell_type": "code",
   "execution_count": 15,
   "id": "49626424",
   "metadata": {},
   "outputs": [
    {
     "data": {
      "text/html": [
       "<div>\n",
       "<style scoped>\n",
       "    .dataframe tbody tr th:only-of-type {\n",
       "        vertical-align: middle;\n",
       "    }\n",
       "\n",
       "    .dataframe tbody tr th {\n",
       "        vertical-align: top;\n",
       "    }\n",
       "\n",
       "    .dataframe thead th {\n",
       "        text-align: right;\n",
       "    }\n",
       "</style>\n",
       "<table border=\"1\" class=\"dataframe\">\n",
       "  <thead>\n",
       "    <tr style=\"text-align: right;\">\n",
       "      <th></th>\n",
       "      <th>Регион</th>\n",
       "      <th>Тип района</th>\n",
       "      <th>Район</th>\n",
       "      <th>Тип города</th>\n",
       "      <th>Город</th>\n",
       "      <th>Часовой пояс</th>\n",
       "      <th>Широта</th>\n",
       "      <th>Долгота</th>\n",
       "    </tr>\n",
       "  </thead>\n",
       "  <tbody>\n",
       "    <tr>\n",
       "      <th>924</th>\n",
       "      <td>Татарстан</td>\n",
       "      <td>NaN</td>\n",
       "      <td>NaN</td>\n",
       "      <td>г</td>\n",
       "      <td>Казань</td>\n",
       "      <td>UTC+3</td>\n",
       "      <td>55.794388</td>\n",
       "      <td>49.111531</td>\n",
       "    </tr>\n",
       "  </tbody>\n",
       "</table>\n",
       "</div>"
      ],
      "text/plain": [
       "        Регион Тип района Район Тип города   Город Часовой пояс     Широта  \\\n",
       "924  Татарстан        NaN   NaN          г  Казань        UTC+3  55.794388   \n",
       "\n",
       "       Долгота  \n",
       "924  49.111531  "
      ]
     },
     "execution_count": 15,
     "metadata": {},
     "output_type": "execute_result"
    }
   ],
   "source": [
    "cities[cities['Город'] == 'Казань']"
   ]
  },
  {
   "cell_type": "code",
   "execution_count": null,
   "id": "deb87ad5",
   "metadata": {},
   "outputs": [],
   "source": [
    "def near_city(city_name):\n",
    "    ns = set()\n",
    "    "
   ]
  },
  {
   "cell_type": "markdown",
   "id": "3d11cd51",
   "metadata": {},
   "source": [
    "Отсекаем часовые пояса +\\- 2 часа\n",
    "Считам длину долготы - разница +\\- 111 км\n",
    "Длина долготы 40000*cos(широты) - 1 градус - длина долготы \\ 360, в градусе 60 минут - \n",
    "   пересчитываем в десятичные доли - 1 градус + 1 мин\\60\n",
    "Находим по разницы широты +\\- 1 градус, долготы расчётная разница, список городов\n",
    "Выводим списко городов"
   ]
  }
 ],
 "metadata": {
  "kernelspec": {
   "display_name": "Python 3 (ipykernel)",
   "language": "python",
   "name": "python3"
  },
  "language_info": {
   "codemirror_mode": {
    "name": "ipython",
    "version": 3
   },
   "file_extension": ".py",
   "mimetype": "text/x-python",
   "name": "python",
   "nbconvert_exporter": "python",
   "pygments_lexer": "ipython3",
   "version": "3.8.11"
  }
 },
 "nbformat": 4,
 "nbformat_minor": 5
}
