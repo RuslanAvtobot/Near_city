{
 "cells": [
  {
   "cell_type": "code",
   "execution_count": 317,
   "id": "7516c8c8",
   "metadata": {},
   "outputs": [],
   "source": [
    "import pandas as pd\n",
    "import numpy as np\n",
    "import math\n",
    "import json"
   ]
  },
  {
   "cell_type": "code",
   "execution_count": 318,
   "id": "e4a9941a",
   "metadata": {},
   "outputs": [
    {
     "name": "stdout",
     "output_type": "stream",
     "text": [
      "{'encoding': 'utf-8', 'confidence': 0.99, 'language': ''}\n"
     ]
    }
   ],
   "source": [
    "from chardet.universaldetector import UniversalDetector\n",
    "detector = UniversalDetector()\n",
    "with open('cities.csv', 'rb') as fh:\n",
    "    for line in fh:\n",
    "        detector.feed(line)\n",
    "        if detector.done:\n",
    "            break\n",
    "    detector.close()\n",
    "print(detector.result)"
   ]
  },
  {
   "cell_type": "code",
   "execution_count": 319,
   "id": "6b2e554a",
   "metadata": {},
   "outputs": [
    {
     "data": {
      "text/html": [
       "<div>\n",
       "<style scoped>\n",
       "    .dataframe tbody tr th:only-of-type {\n",
       "        vertical-align: middle;\n",
       "    }\n",
       "\n",
       "    .dataframe tbody tr th {\n",
       "        vertical-align: top;\n",
       "    }\n",
       "\n",
       "    .dataframe thead th {\n",
       "        text-align: right;\n",
       "    }\n",
       "</style>\n",
       "<table border=\"1\" class=\"dataframe\">\n",
       "  <thead>\n",
       "    <tr style=\"text-align: right;\">\n",
       "      <th></th>\n",
       "      <th>Индекс</th>\n",
       "      <th>Тип региона</th>\n",
       "      <th>Регион</th>\n",
       "      <th>Тип района</th>\n",
       "      <th>Район</th>\n",
       "      <th>Тип города</th>\n",
       "      <th>Город</th>\n",
       "      <th>Тип н/п</th>\n",
       "      <th>Н/п</th>\n",
       "      <th>Код КЛАДР</th>\n",
       "      <th>...</th>\n",
       "      <th>Уровень по ФИАС</th>\n",
       "      <th>Признак центра района или региона</th>\n",
       "      <th>Код ОКАТО</th>\n",
       "      <th>Код ОКТМО</th>\n",
       "      <th>Код ИФНС</th>\n",
       "      <th>Часовой пояс</th>\n",
       "      <th>Широта</th>\n",
       "      <th>Долгота</th>\n",
       "      <th>Федеральный округ</th>\n",
       "      <th>Население</th>\n",
       "    </tr>\n",
       "  </thead>\n",
       "  <tbody>\n",
       "    <tr>\n",
       "      <th>331</th>\n",
       "      <td>612960.0</td>\n",
       "      <td>обл</td>\n",
       "      <td>Кировская</td>\n",
       "      <td>р-н</td>\n",
       "      <td>Вятскополянский</td>\n",
       "      <td>г</td>\n",
       "      <td>Вятские Поляны</td>\n",
       "      <td>NaN</td>\n",
       "      <td>NaN</td>\n",
       "      <td>4300800100000</td>\n",
       "      <td>...</td>\n",
       "      <td>4: город</td>\n",
       "      <td>1</td>\n",
       "      <td>33404000000</td>\n",
       "      <td>3.370400e+07</td>\n",
       "      <td>4307</td>\n",
       "      <td>UTC+3</td>\n",
       "      <td>56.228606</td>\n",
       "      <td>51.061467</td>\n",
       "      <td>Приволжский</td>\n",
       "      <td>35159</td>\n",
       "    </tr>\n",
       "    <tr>\n",
       "      <th>777</th>\n",
       "      <td>446450.0</td>\n",
       "      <td>обл</td>\n",
       "      <td>Самарская</td>\n",
       "      <td>NaN</td>\n",
       "      <td>NaN</td>\n",
       "      <td>г</td>\n",
       "      <td>Похвистнево</td>\n",
       "      <td>NaN</td>\n",
       "      <td>NaN</td>\n",
       "      <td>6300000900000</td>\n",
       "      <td>...</td>\n",
       "      <td>4: город</td>\n",
       "      <td>0</td>\n",
       "      <td>36427000000</td>\n",
       "      <td>3.672700e+10</td>\n",
       "      <td>6372</td>\n",
       "      <td>UTC+4</td>\n",
       "      <td>53.649820</td>\n",
       "      <td>52.123552</td>\n",
       "      <td>Приволжский</td>\n",
       "      <td>28181</td>\n",
       "    </tr>\n",
       "    <tr>\n",
       "      <th>504</th>\n",
       "      <td>430000.0</td>\n",
       "      <td>Респ</td>\n",
       "      <td>Мордовия</td>\n",
       "      <td>NaN</td>\n",
       "      <td>NaN</td>\n",
       "      <td>г</td>\n",
       "      <td>Саранск</td>\n",
       "      <td>NaN</td>\n",
       "      <td>NaN</td>\n",
       "      <td>1300000100000</td>\n",
       "      <td>...</td>\n",
       "      <td>4: город</td>\n",
       "      <td>2</td>\n",
       "      <td>89401000000</td>\n",
       "      <td>8.970100e+07</td>\n",
       "      <td>1300</td>\n",
       "      <td>UTC+3</td>\n",
       "      <td>54.180760</td>\n",
       "      <td>45.186226</td>\n",
       "      <td>Приволжский</td>\n",
       "      <td>297425</td>\n",
       "    </tr>\n",
       "    <tr>\n",
       "      <th>904</th>\n",
       "      <td>393670.0</td>\n",
       "      <td>обл</td>\n",
       "      <td>Тамбовская</td>\n",
       "      <td>р-н</td>\n",
       "      <td>Жердевский</td>\n",
       "      <td>г</td>\n",
       "      <td>Жердевка</td>\n",
       "      <td>NaN</td>\n",
       "      <td>NaN</td>\n",
       "      <td>6800400100000</td>\n",
       "      <td>...</td>\n",
       "      <td>4: город</td>\n",
       "      <td>1</td>\n",
       "      <td>68204501000</td>\n",
       "      <td>6.860410e+10</td>\n",
       "      <td>6820</td>\n",
       "      <td>UTC+3</td>\n",
       "      <td>51.842178</td>\n",
       "      <td>41.461741</td>\n",
       "      <td>Центральный</td>\n",
       "      <td>15211</td>\n",
       "    </tr>\n",
       "    <tr>\n",
       "      <th>943</th>\n",
       "      <td>171571.0</td>\n",
       "      <td>обл</td>\n",
       "      <td>Тверская</td>\n",
       "      <td>р-н</td>\n",
       "      <td>Калязинский</td>\n",
       "      <td>г</td>\n",
       "      <td>Калязин</td>\n",
       "      <td>NaN</td>\n",
       "      <td>NaN</td>\n",
       "      <td>6901100100000</td>\n",
       "      <td>...</td>\n",
       "      <td>4: город</td>\n",
       "      <td>1</td>\n",
       "      <td>28222501000</td>\n",
       "      <td>2.862210e+07</td>\n",
       "      <td>6910</td>\n",
       "      <td>UTC+3</td>\n",
       "      <td>57.257947</td>\n",
       "      <td>37.782125</td>\n",
       "      <td>Центральный</td>\n",
       "      <td>13870</td>\n",
       "    </tr>\n",
       "  </tbody>\n",
       "</table>\n",
       "<p>5 rows × 21 columns</p>\n",
       "</div>"
      ],
      "text/plain": [
       "       Индекс Тип региона      Регион Тип района            Район Тип города  \\\n",
       "331  612960.0         обл   Кировская        р-н  Вятскополянский          г   \n",
       "777  446450.0         обл   Самарская        NaN              NaN          г   \n",
       "504  430000.0        Респ    Мордовия        NaN              NaN          г   \n",
       "904  393670.0         обл  Тамбовская        р-н       Жердевский          г   \n",
       "943  171571.0         обл    Тверская        р-н      Калязинский          г   \n",
       "\n",
       "              Город Тип н/п  Н/п      Код КЛАДР  ... Уровень по ФИАС  \\\n",
       "331  Вятские Поляны     NaN  NaN  4300800100000  ...        4: город   \n",
       "777     Похвистнево     NaN  NaN  6300000900000  ...        4: город   \n",
       "504         Саранск     NaN  NaN  1300000100000  ...        4: город   \n",
       "904        Жердевка     NaN  NaN  6800400100000  ...        4: город   \n",
       "943         Калязин     NaN  NaN  6901100100000  ...        4: город   \n",
       "\n",
       "    Признак центра района или региона    Код ОКАТО     Код ОКТМО  Код ИФНС  \\\n",
       "331                                 1  33404000000  3.370400e+07      4307   \n",
       "777                                 0  36427000000  3.672700e+10      6372   \n",
       "504                                 2  89401000000  8.970100e+07      1300   \n",
       "904                                 1  68204501000  6.860410e+10      6820   \n",
       "943                                 1  28222501000  2.862210e+07      6910   \n",
       "\n",
       "     Часовой пояс     Широта    Долгота  Федеральный округ Население  \n",
       "331         UTC+3  56.228606  51.061467        Приволжский     35159  \n",
       "777         UTC+4  53.649820  52.123552        Приволжский     28181  \n",
       "504         UTC+3  54.180760  45.186226        Приволжский    297425  \n",
       "904         UTC+3  51.842178  41.461741        Центральный     15211  \n",
       "943         UTC+3  57.257947  37.782125        Центральный     13870  \n",
       "\n",
       "[5 rows x 21 columns]"
      ]
     },
     "execution_count": 319,
     "metadata": {},
     "output_type": "execute_result"
    }
   ],
   "source": [
    "cities = pd.read_csv('cities.csv', encoding = 'utf-8')\n",
    "cities.sample(5)"
   ]
  },
  {
   "cell_type": "code",
   "execution_count": 320,
   "id": "513974e5",
   "metadata": {},
   "outputs": [
    {
     "name": "stdout",
     "output_type": "stream",
     "text": [
      "<class 'pandas.core.frame.DataFrame'>\n",
      "RangeIndex: 1112 entries, 0 to 1111\n",
      "Data columns (total 21 columns):\n",
      " #   Column                             Non-Null Count  Dtype  \n",
      "---  ------                             --------------  -----  \n",
      " 0   Индекс                             1108 non-null   float64\n",
      " 1   Тип региона                        1112 non-null   object \n",
      " 2   Регион                             1112 non-null   object \n",
      " 3   Тип района                         629 non-null    object \n",
      " 4   Район                              629 non-null    object \n",
      " 5   Тип города                         1108 non-null   object \n",
      " 6   Город                              1108 non-null   object \n",
      " 7   Тип н/п                            2 non-null      object \n",
      " 8   Н/п                                2 non-null      object \n",
      " 9   Код КЛАДР                          1112 non-null   int64  \n",
      " 10  Код ФИАС                           1112 non-null   object \n",
      " 11  Уровень по ФИАС                    1112 non-null   object \n",
      " 12  Признак центра района или региона  1112 non-null   int64  \n",
      " 13  Код ОКАТО                          1112 non-null   int64  \n",
      " 14  Код ОКТМО                          1110 non-null   float64\n",
      " 15  Код ИФНС                           1112 non-null   int64  \n",
      " 16  Часовой пояс                       1112 non-null   object \n",
      " 17  Широта                             1112 non-null   float64\n",
      " 18  Долгота                            1112 non-null   float64\n",
      " 19  Федеральный округ                  1112 non-null   object \n",
      " 20  Население                          1112 non-null   object \n",
      "dtypes: float64(4), int64(4), object(13)\n",
      "memory usage: 182.6+ KB\n"
     ]
    }
   ],
   "source": [
    "cities.info()"
   ]
  },
  {
   "cell_type": "code",
   "execution_count": 321,
   "id": "38a609c2",
   "metadata": {},
   "outputs": [
    {
     "data": {
      "text/plain": [
       "Index(['Индекс', 'Тип региона', 'Регион', 'Тип района', 'Район', 'Тип города',\n",
       "       'Город', 'Тип н/п', 'Н/п', 'Код КЛАДР', 'Код ФИАС', 'Уровень по ФИАС',\n",
       "       'Признак центра района или региона', 'Код ОКАТО', 'Код ОКТМО',\n",
       "       'Код ИФНС', 'Часовой пояс', 'Широта', 'Долгота', 'Федеральный округ',\n",
       "       'Население'],\n",
       "      dtype='object')"
      ]
     },
     "execution_count": 321,
     "metadata": {},
     "output_type": "execute_result"
    }
   ],
   "source": [
    "cities.columns"
   ]
  },
  {
   "cell_type": "code",
   "execution_count": 322,
   "id": "8193c7a7",
   "metadata": {},
   "outputs": [],
   "source": [
    "cities.drop(['Индекс', 'Тип региона', 'Тип н/п', 'Н/п', 'Код КЛАДР', 'Код ФИАС', 'Уровень по ФИАС',\n",
    "       'Признак центра района или региона', 'Код ОКАТО', 'Код ОКТМО',\n",
    "       'Код ИФНС', 'Федеральный округ'], axis = 1, inplace = True)"
   ]
  },
  {
   "cell_type": "code",
   "execution_count": 323,
   "id": "34ea3b3a",
   "metadata": {},
   "outputs": [
    {
     "name": "stdout",
     "output_type": "stream",
     "text": [
      "<class 'pandas.core.frame.DataFrame'>\n",
      "RangeIndex: 1112 entries, 0 to 1111\n",
      "Data columns (total 9 columns):\n",
      " #   Column        Non-Null Count  Dtype  \n",
      "---  ------        --------------  -----  \n",
      " 0   Регион        1112 non-null   object \n",
      " 1   Тип района    629 non-null    object \n",
      " 2   Район         629 non-null    object \n",
      " 3   Тип города    1108 non-null   object \n",
      " 4   Город         1108 non-null   object \n",
      " 5   Часовой пояс  1112 non-null   object \n",
      " 6   Широта        1112 non-null   float64\n",
      " 7   Долгота       1112 non-null   float64\n",
      " 8   Население     1112 non-null   object \n",
      "dtypes: float64(2), object(7)\n",
      "memory usage: 78.3+ KB\n"
     ]
    }
   ],
   "source": [
    "cities.info()"
   ]
  },
  {
   "cell_type": "code",
   "execution_count": 324,
   "id": "49626424",
   "metadata": {},
   "outputs": [
    {
     "data": {
      "text/html": [
       "<div>\n",
       "<style scoped>\n",
       "    .dataframe tbody tr th:only-of-type {\n",
       "        vertical-align: middle;\n",
       "    }\n",
       "\n",
       "    .dataframe tbody tr th {\n",
       "        vertical-align: top;\n",
       "    }\n",
       "\n",
       "    .dataframe thead th {\n",
       "        text-align: right;\n",
       "    }\n",
       "</style>\n",
       "<table border=\"1\" class=\"dataframe\">\n",
       "  <thead>\n",
       "    <tr style=\"text-align: right;\">\n",
       "      <th></th>\n",
       "      <th>Регион</th>\n",
       "      <th>Тип района</th>\n",
       "      <th>Район</th>\n",
       "      <th>Тип города</th>\n",
       "      <th>Город</th>\n",
       "      <th>Часовой пояс</th>\n",
       "      <th>Широта</th>\n",
       "      <th>Долгота</th>\n",
       "      <th>Население</th>\n",
       "    </tr>\n",
       "  </thead>\n",
       "  <tbody>\n",
       "    <tr>\n",
       "      <th>924</th>\n",
       "      <td>Татарстан</td>\n",
       "      <td>NaN</td>\n",
       "      <td>NaN</td>\n",
       "      <td>г</td>\n",
       "      <td>Казань</td>\n",
       "      <td>UTC+3</td>\n",
       "      <td>55.794388</td>\n",
       "      <td>49.111531</td>\n",
       "      <td>1216965</td>\n",
       "    </tr>\n",
       "  </tbody>\n",
       "</table>\n",
       "</div>"
      ],
      "text/plain": [
       "        Регион Тип района Район Тип города   Город Часовой пояс     Широта  \\\n",
       "924  Татарстан        NaN   NaN          г  Казань        UTC+3  55.794388   \n",
       "\n",
       "       Долгота Население  \n",
       "924  49.111531   1216965  "
      ]
     },
     "execution_count": 324,
     "metadata": {},
     "output_type": "execute_result"
    }
   ],
   "source": [
    "cities[cities['Город'] == 'Казань']"
   ]
  },
  {
   "cell_type": "code",
   "execution_count": 325,
   "id": "19975a83",
   "metadata": {},
   "outputs": [],
   "source": [
    "cities['Часовой пояс'] = cities['Часовой пояс'].str.replace('UTC+', '')#удаляю UTC из часового пояса"
   ]
  },
  {
   "cell_type": "code",
   "execution_count": 326,
   "id": "329cf581",
   "metadata": {},
   "outputs": [],
   "source": [
    "cities['Часовой пояс'] = cities['Часовой пояс'].str.replace(' ', '')"
   ]
  },
  {
   "cell_type": "code",
   "execution_count": 327,
   "id": "62ffc0ef",
   "metadata": {},
   "outputs": [],
   "source": [
    "cities['Часовой пояс'] = cities['Часовой пояс'].apply(lambda x: np.int(x))"
   ]
  },
  {
   "cell_type": "code",
   "execution_count": 328,
   "id": "b3d6f43d",
   "metadata": {},
   "outputs": [
    {
     "data": {
      "text/plain": [
       "array([ 3,  7,  9,  4,  5,  8, 10,  2, 12, 11,  6], dtype=int64)"
      ]
     },
     "execution_count": 328,
     "metadata": {},
     "output_type": "execute_result"
    }
   ],
   "source": [
    "cities['Часовой пояс'].unique()"
   ]
  },
  {
   "cell_type": "code",
   "execution_count": null,
   "id": "0423e550",
   "metadata": {},
   "outputs": [],
   "source": [
    "cities[cities['Город'] == Белогорск]['Часовой пояс']"
   ]
  },
  {
   "cell_type": "code",
   "execution_count": 330,
   "id": "f88e0beb",
   "metadata": {},
   "outputs": [
    {
     "name": "stdout",
     "output_type": "stream",
     "text": [
      "Адыгейск\n",
      "Майкоп\n",
      "Горно-Алтайск\n",
      "Алейск\n",
      "Барнаул\n",
      "Белокуриха\n",
      "Бийск\n",
      "Горняк\n",
      "Заринск\n",
      "Змеиногорск\n",
      "Камень-на-Оби\n",
      "Новоалтайск\n",
      "Рубцовск\n",
      "Славгород\n",
      "Яровое\n",
      "Белогорск\n"
     ]
    },
    {
     "ename": "TypeError",
     "evalue": "only size-1 arrays can be converted to Python scalars",
     "output_type": "error",
     "traceback": [
      "\u001b[1;31m---------------------------------------------------------------------------\u001b[0m",
      "\u001b[1;31mTypeError\u001b[0m                                 Traceback (most recent call last)",
      "\u001b[1;32m~\\AppData\\Local\\Temp/ipykernel_3540/91199404.py\u001b[0m in \u001b[0;36m<module>\u001b[1;34m\u001b[0m\n\u001b[0;32m      1\u001b[0m \u001b[1;32mfor\u001b[0m \u001b[0mi\u001b[0m \u001b[1;32min\u001b[0m \u001b[0mcities\u001b[0m\u001b[1;33m[\u001b[0m\u001b[1;34m'Город'\u001b[0m\u001b[1;33m]\u001b[0m\u001b[1;33m:\u001b[0m\u001b[1;33m\u001b[0m\u001b[1;33m\u001b[0m\u001b[0m\n\u001b[0;32m      2\u001b[0m     \u001b[0mprint\u001b[0m\u001b[1;33m(\u001b[0m\u001b[0mi\u001b[0m\u001b[1;33m)\u001b[0m\u001b[1;33m\u001b[0m\u001b[1;33m\u001b[0m\u001b[0m\n\u001b[1;32m----> 3\u001b[1;33m     \u001b[0mint\u001b[0m\u001b[1;33m(\u001b[0m\u001b[0mcities\u001b[0m\u001b[1;33m[\u001b[0m\u001b[0mcities\u001b[0m\u001b[1;33m[\u001b[0m\u001b[1;34m'Город'\u001b[0m\u001b[1;33m]\u001b[0m \u001b[1;33m==\u001b[0m \u001b[0mi\u001b[0m\u001b[1;33m]\u001b[0m\u001b[1;33m[\u001b[0m\u001b[1;34m'Часовой пояс'\u001b[0m\u001b[1;33m]\u001b[0m\u001b[1;33m.\u001b[0m\u001b[0mvalues\u001b[0m\u001b[1;33m)\u001b[0m\u001b[1;33m+\u001b[0m\u001b[1;36m2.5\u001b[0m\u001b[1;33m\u001b[0m\u001b[1;33m\u001b[0m\u001b[0m\n\u001b[0m",
      "\u001b[1;31mTypeError\u001b[0m: only size-1 arrays can be converted to Python scalars"
     ]
    }
   ],
   "source": [
    "for i in cities['Город']:\n",
    "    print(i)\n",
    "    int(cities[cities['Город'] == i]['Часовой пояс'].values)+2.5"
   ]
  },
  {
   "cell_type": "code",
   "execution_count": 191,
   "id": "b0942607",
   "metadata": {},
   "outputs": [],
   "source": [
    "#Отсекаем часовые пояса +- 2 часа\n",
    "near_Kazan = cities[cities['Часовой пояс'].between(float(cities[cities['Город'] == 'Самара']['Часовой пояс'].values)-2.5,\n",
    "                                            float(cities[cities['Город'] == 'Самара']['Часовой пояс'].values)+2.5,\n",
    "                                            inclusive = True)]"
   ]
  },
  {
   "cell_type": "code",
   "execution_count": 192,
   "id": "817051a8",
   "metadata": {},
   "outputs": [],
   "source": [
    "# Отсекаем города по Долготе\n",
    "near_Kazan = near_Kazan[near_Kazan['Долгота'].between(float(near_Kazan[near_Kazan['Город'] == 'Самара']['Долгота'].values)-1,\n",
    "                                            float(near_Kazan[near_Kazan['Город'] == 'Самара']['Долгота'].values)+1,\n",
    "                                            inclusive = True)]"
   ]
  },
  {
   "cell_type": "code",
   "execution_count": 205,
   "id": "5c67d06b",
   "metadata": {},
   "outputs": [
    {
     "data": {
      "text/plain": [
       "0.618221918105964"
      ]
     },
     "execution_count": 205,
     "metadata": {},
     "output_type": "execute_result"
    }
   ],
   "source": [
    "math.cos(round(float(near_Kazan[near_Kazan['Город'] == 'Самара']['Широта'].values), 6) * 0.017)"
   ]
  },
  {
   "cell_type": "code",
   "execution_count": 193,
   "id": "08f04d3b",
   "metadata": {},
   "outputs": [
    {
     "name": "stdout",
     "output_type": "stream",
     "text": [
      "-108.62567738421929\n"
     ]
    }
   ],
   "source": [
    "max_latitude = 40000/360 * math.cos(float(near_Kazan[near_Kazan['Город'] == 'Самара']['Широта'].values))\n",
    "print(max_latitude)"
   ]
  },
  {
   "cell_type": "code",
   "execution_count": 189,
   "id": "46d0703f",
   "metadata": {},
   "outputs": [
    {
     "data": {
      "text/plain": [
       "-1.02288"
      ]
     },
     "execution_count": 189,
     "metadata": {},
     "output_type": "execute_result"
    }
   ],
   "source": [
    "latitude = round(111.111/(max_latitude/60)/60, 6)\n",
    "latitude"
   ]
  },
  {
   "cell_type": "code",
   "execution_count": 187,
   "id": "0d02101b",
   "metadata": {},
   "outputs": [],
   "source": [
    "near_Kazan = near_Kazan[near_Kazan['Широта'].between(float(near_Kazan[near_Kazan['Город'] == 'Самара']\n",
    "                                                           ['Широта'].values)-latitude,\n",
    "                                                     float(near_Kazan[near_Kazan['Город'] == 'Самара']\n",
    "                                                           ['Широта'].values)+latitude,\n",
    "                                            inclusive = True)]"
   ]
  },
  {
   "cell_type": "code",
   "execution_count": 188,
   "id": "fea2b44f",
   "metadata": {
    "scrolled": true
   },
   "outputs": [
    {
     "data": {
      "text/html": [
       "<div>\n",
       "<style scoped>\n",
       "    .dataframe tbody tr th:only-of-type {\n",
       "        vertical-align: middle;\n",
       "    }\n",
       "\n",
       "    .dataframe tbody tr th {\n",
       "        vertical-align: top;\n",
       "    }\n",
       "\n",
       "    .dataframe thead th {\n",
       "        text-align: right;\n",
       "    }\n",
       "</style>\n",
       "<table border=\"1\" class=\"dataframe\">\n",
       "  <thead>\n",
       "    <tr style=\"text-align: right;\">\n",
       "      <th></th>\n",
       "      <th>Регион</th>\n",
       "      <th>Тип района</th>\n",
       "      <th>Район</th>\n",
       "      <th>Тип города</th>\n",
       "      <th>Город</th>\n",
       "      <th>Часовой пояс</th>\n",
       "      <th>Широта</th>\n",
       "      <th>Долгота</th>\n",
       "      <th>Население</th>\n",
       "    </tr>\n",
       "  </thead>\n",
       "  <tbody>\n",
       "  </tbody>\n",
       "</table>\n",
       "</div>"
      ],
      "text/plain": [
       "Empty DataFrame\n",
       "Columns: [Регион, Тип района, Район, Тип города, Город, Часовой пояс, Широта, Долгота, Население]\n",
       "Index: []"
      ]
     },
     "execution_count": 188,
     "metadata": {},
     "output_type": "execute_result"
    }
   ],
   "source": [
    "near_Kazan"
   ]
  },
  {
   "cell_type": "code",
   "execution_count": 165,
   "id": "885c0d4a",
   "metadata": {},
   "outputs": [
    {
     "name": "stdout",
     "output_type": "stream",
     "text": [
      "{'Казань': []}\n",
      "{'Казань': ['Уржум', 'Волжск', 'Арск', 'Болгар', 'Буинск', 'Зеленодольск', 'Иннополис', 'Казань', 'Лаишево', 'Тетюши', 'Козловка']}\n"
     ]
    }
   ],
   "source": [
    "near_sity_s = dict()\n",
    "\n",
    "near_sity_s['Казань'] = list()\n",
    "\n",
    "for i in near_Kazan['Город']:\n",
    "    near_sity_s['Казань'].append(i)\n",
    "\n",
    "print(near_sity_s) "
   ]
  },
  {
   "cell_type": "code",
   "execution_count": 219,
   "id": "a88b4e04",
   "metadata": {},
   "outputs": [],
   "source": [
    "sev_city = ['Казань', 'Самара', 'Ульяновск', 'Альметьевск']"
   ]
  },
  {
   "cell_type": "code",
   "execution_count": 233,
   "id": "2025e64c",
   "metadata": {},
   "outputs": [],
   "source": [
    "several_city = cities.query('Город in [\"Казань\",\"Самара\"]')"
   ]
  },
  {
   "cell_type": "code",
   "execution_count": 315,
   "id": "deb87ad5",
   "metadata": {},
   "outputs": [],
   "source": [
    "def near_city(df, distance):\n",
    "    near_sity_s = dict() #создаю словарь, что бы добавить города\n",
    "    \n",
    "    for i in df['Город']:\n",
    "        near_sity_s[i] = list()\n",
    "    \n",
    "        #Отсекаем часовые пояса +- 2 часа\n",
    "        near_Kazan = df[df['Часовой пояс'].between(float(df[df['Город'] == i]['Часовой пояс'].values)-2.5,\n",
    "                                                float(df[df['Город'] == i ]['Часовой пояс'].values)+2.5,\n",
    "                                                inclusive = True)]\n",
    "    \n",
    "        # Отсекаем города по Долготе\n",
    "        longitude = distance/111.111\n",
    "        near_Kazan = near_Kazan[near_Kazan['Долгота'].between(float(near_Kazan[near_Kazan['Город'] == i]\n",
    "                                                            ['Долгота'].values)-longitude,\n",
    "                                                float(near_Kazan[near_Kazan['Город'] == i]\n",
    "                                                      ['Долгота'].values)+longitude,\n",
    "                                                inclusive = True)]\n",
    "    \n",
    "        latitude = 40000/360 * math.cos(float(near_Kazan[near_Kazan['Город'] == i]['Широта'].values)*0.017)\n",
    "        latitude = round(distance/(latitude/60)/60, 6)\n",
    "    \n",
    "        # Отсекаем города по Широте\n",
    "        near_Kazan = near_Kazan[near_Kazan['Широта'].between(float(near_Kazan[near_Kazan['Город'] == i]\n",
    "                                                               ['Широта'].values)-latitude,\n",
    "                                                         float(near_Kazan[near_Kazan['Город'] == i]\n",
    "                                                               ['Широта'].values)+latitude,\n",
    "                                                inclusive = True)]\n",
    "    \n",
    "        for j in near_Kazan['Город']:\n",
    "            near_sity_s[i].append(j)\n",
    "\n",
    "    return near_sity_s"
   ]
  },
  {
   "cell_type": "markdown",
   "id": "3d11cd51",
   "metadata": {},
   "source": [
    "Отсекаем часовые пояса +\\- 2 часа\n",
    "Считам длину долготы - разница +\\- 111 км\n",
    "Длина 1 градуса широты 40000\\*cos(широты) - 1 градус - длина широты \\ 360, в градусе 60 минут - \n",
    "   пересчитываем в десятичные доли - 1 градус + 1 мин\\60\n",
    "Находим по разницы широты +\\- 1 градус, долготы расчётная разница, список городов\n",
    "Выводим списко городов"
   ]
  },
  {
   "cell_type": "code",
   "execution_count": 329,
   "id": "552cc54e",
   "metadata": {},
   "outputs": [
    {
     "ename": "TypeError",
     "evalue": "only size-1 arrays can be converted to Python scalars",
     "output_type": "error",
     "traceback": [
      "\u001b[1;31m---------------------------------------------------------------------------\u001b[0m",
      "\u001b[1;31mTypeError\u001b[0m                                 Traceback (most recent call last)",
      "\u001b[1;32m~\\AppData\\Local\\Temp/ipykernel_3540/1440874209.py\u001b[0m in \u001b[0;36m<module>\u001b[1;34m\u001b[0m\n\u001b[1;32m----> 1\u001b[1;33m \u001b[0msummary\u001b[0m \u001b[1;33m=\u001b[0m \u001b[0mnear_city\u001b[0m\u001b[1;33m(\u001b[0m\u001b[0mcities\u001b[0m\u001b[1;33m,\u001b[0m \u001b[1;36m50\u001b[0m\u001b[1;33m)\u001b[0m\u001b[1;33m\u001b[0m\u001b[1;33m\u001b[0m\u001b[0m\n\u001b[0m",
      "\u001b[1;32m~\\AppData\\Local\\Temp/ipykernel_3540/18000997.py\u001b[0m in \u001b[0;36mnear_city\u001b[1;34m(df, distance)\u001b[0m\n\u001b[0;32m      6\u001b[0m \u001b[1;33m\u001b[0m\u001b[0m\n\u001b[0;32m      7\u001b[0m         \u001b[1;31m#Отсекаем часовые пояса +- 2 часа\u001b[0m\u001b[1;33m\u001b[0m\u001b[1;33m\u001b[0m\u001b[1;33m\u001b[0m\u001b[0m\n\u001b[1;32m----> 8\u001b[1;33m         near_Kazan = df[df['Часовой пояс'].between(float(df[df['Город'] == i]['Часовой пояс'].values)-2.5,\n\u001b[0m\u001b[0;32m      9\u001b[0m                                                 \u001b[0mfloat\u001b[0m\u001b[1;33m(\u001b[0m\u001b[0mdf\u001b[0m\u001b[1;33m[\u001b[0m\u001b[0mdf\u001b[0m\u001b[1;33m[\u001b[0m\u001b[1;34m'Город'\u001b[0m\u001b[1;33m]\u001b[0m \u001b[1;33m==\u001b[0m \u001b[0mi\u001b[0m \u001b[1;33m]\u001b[0m\u001b[1;33m[\u001b[0m\u001b[1;34m'Часовой пояс'\u001b[0m\u001b[1;33m]\u001b[0m\u001b[1;33m.\u001b[0m\u001b[0mvalues\u001b[0m\u001b[1;33m)\u001b[0m\u001b[1;33m+\u001b[0m\u001b[1;36m2.5\u001b[0m\u001b[1;33m,\u001b[0m\u001b[1;33m\u001b[0m\u001b[1;33m\u001b[0m\u001b[0m\n\u001b[0;32m     10\u001b[0m                                                 inclusive = True)]\n",
      "\u001b[1;31mTypeError\u001b[0m: only size-1 arrays can be converted to Python scalars"
     ]
    }
   ],
   "source": [
    "summary = near_city(cities, 50)"
   ]
  },
  {
   "cell_type": "code",
   "execution_count": 251,
   "id": "d060b7fc",
   "metadata": {},
   "outputs": [
    {
     "name": "stdout",
     "output_type": "stream",
     "text": [
      "{'Самара': ['Жигулевск', 'Кинель', 'Новокуйбышевск', 'Самара', 'Тольятти', 'Чапаевск', 'Нурлат', 'Димитровград'], 'Казань': ['Уржум', 'Волжск', 'Арск', 'Болгар', 'Буинск', 'Зеленодольск', 'Иннополис', 'Казань', 'Лаишево', 'Тетюши', 'Ульяновск', 'Козловка']}\n"
     ]
    }
   ],
   "source": [
    "print(summary)"
   ]
  },
  {
   "cell_type": "code",
   "execution_count": 252,
   "id": "3f4d4312",
   "metadata": {},
   "outputs": [],
   "source": [
    "jsonData = json.dumps(summary)"
   ]
  },
  {
   "cell_type": "code",
   "execution_count": 253,
   "id": "cb98779f",
   "metadata": {},
   "outputs": [],
   "source": [
    "with open(\"json_near_city.json\", \"w\") as file:\n",
    "    file.write(jsonData)"
   ]
  },
  {
   "cell_type": "code",
   "execution_count": 254,
   "id": "13e9a54c",
   "metadata": {},
   "outputs": [],
   "source": [
    "with open('json_near_city.json') as f:\n",
    "   expl = json.load(f)"
   ]
  },
  {
   "cell_type": "code",
   "execution_count": 255,
   "id": "3db94214",
   "metadata": {},
   "outputs": [
    {
     "name": "stdout",
     "output_type": "stream",
     "text": [
      "{'Казань': ['Уржум',\n",
      "            'Волжск',\n",
      "            'Арск',\n",
      "            'Болгар',\n",
      "            'Буинск',\n",
      "            'Зеленодольск',\n",
      "            'Иннополис',\n",
      "            'Казань',\n",
      "            'Лаишево',\n",
      "            'Тетюши',\n",
      "            'Ульяновск',\n",
      "            'Козловка'],\n",
      " 'Самара': ['Жигулевск',\n",
      "            'Кинель',\n",
      "            'Новокуйбышевск',\n",
      "            'Самара',\n",
      "            'Тольятти',\n",
      "            'Чапаевск',\n",
      "            'Нурлат',\n",
      "            'Димитровград']}\n"
     ]
    }
   ],
   "source": [
    "from pprint import pprint  \n",
    "pprint(expl)"
   ]
  }
 ],
 "metadata": {
  "kernelspec": {
   "display_name": "Python 3 (ipykernel)",
   "language": "python",
   "name": "python3"
  },
  "language_info": {
   "codemirror_mode": {
    "name": "ipython",
    "version": 3
   },
   "file_extension": ".py",
   "mimetype": "text/x-python",
   "name": "python",
   "nbconvert_exporter": "python",
   "pygments_lexer": "ipython3",
   "version": "3.8.11"
  }
 },
 "nbformat": 4,
 "nbformat_minor": 5
}
